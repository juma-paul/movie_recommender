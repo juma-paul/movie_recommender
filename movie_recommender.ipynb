{
 "cells": [
  {
   "cell_type": "code",
   "execution_count": null,
   "metadata": {},
   "outputs": [],
   "source": [
    "import pandas as pd\n",
    "from neo4j import GraphDatabase as gdb\n",
    "import weaviate as wev\n",
    "import weaviate.classes.config as wc"
   ]
  },
  {
   "cell_type": "code",
   "execution_count": null,
   "metadata": {},
   "outputs": [],
   "source": [
    "movie_data = pd.read_csv('movie_data.csv', engine='python')\n"
   ]
  },
  {
   "cell_type": "code",
   "execution_count": null,
   "metadata": {},
   "outputs": [],
   "source": [
    "movie_data.head()"
   ]
  },
  {
   "cell_type": "code",
   "execution_count": null,
   "metadata": {},
   "outputs": [],
   "source": [
    "movie_data.isnull().sum()"
   ]
  },
  {
   "cell_type": "code",
   "execution_count": null,
   "metadata": {},
   "outputs": [],
   "source": [
    "movie_data.duplicated().sum()"
   ]
  },
  {
   "cell_type": "code",
   "execution_count": null,
   "metadata": {},
   "outputs": [],
   "source": [
    "movie_data.dropna(inplace=True)"
   ]
  },
  {
   "cell_type": "code",
   "execution_count": null,
   "metadata": {},
   "outputs": [],
   "source": [
    "movie_data.isnull().sum()"
   ]
  },
  {
   "cell_type": "code",
   "execution_count": null,
   "metadata": {},
   "outputs": [],
   "source": [
    "movie_data"
   ]
  },
  {
   "cell_type": "code",
   "execution_count": null,
   "metadata": {},
   "outputs": [],
   "source": [
    "movie_data = movie_data[['title', 'overview', 'genres', 'cast', 'poster_url', 'release_date']]"
   ]
  },
  {
   "cell_type": "markdown",
   "metadata": {},
   "source": [
    "## Load csv data and populate  Neo4j"
   ]
  },
  {
   "cell_type": "markdown",
   "metadata": {},
   "source": [
    "### Function to create a Neo4j driver"
   ]
  },
  {
   "cell_type": "code",
   "execution_count": null,
   "metadata": {},
   "outputs": [],
   "source": [
    "def create_driver(uri, username, password):\n",
    "    driver = gdb.driver(uri, auth=(username, password))\n",
    "    return driver"
   ]
  },
  {
   "cell_type": "markdown",
   "metadata": {},
   "source": [
    "### Function to insert movies into the Neo4j database"
   ]
  },
  {
   "cell_type": "code",
   "execution_count": null,
   "metadata": {},
   "outputs": [],
   "source": [
    "def insert_movie(tx, movie):\n",
    "    # cypher query to create a Movie node with it's properties\n",
    "    query = \"\"\"\n",
    "    MERGE (m:Movie {title: $title})\n",
    "    SET m.overview = $overview,\n",
    "        m.release_date = $release_date,\n",
    "        m.poster_url = $poster_url\n",
    "    \"\"\"\n",
    "    tx.run(query, movie)"
   ]
  },
  {
   "cell_type": "markdown",
   "metadata": {},
   "source": [
    "### Function to insert genres and their relationships with movies"
   ]
  },
  {
   "cell_type": "code",
   "execution_count": null,
   "metadata": {},
   "outputs": [],
   "source": [
    "def insert_genres(tx, title, genres):\n",
    "    for genre in genres:\n",
    "        query = \"\"\"\n",
    "            MERGE (g:Genre {name: $genre})\n",
    "            WITH g\n",
    "            MATCH (m:Movie {title: $title})\n",
    "            MERGE (m)-[:BELONGS_TO]->(g)\n",
    "        \"\"\"\n",
    "        tx.run(query, genre=genre, title=title)"
   ]
  },
  {
   "cell_type": "markdown",
   "metadata": {},
   "source": [
    "### Function to insert cast members and their relationships with movies"
   ]
  },
  {
   "cell_type": "code",
   "execution_count": null,
   "metadata": {},
   "outputs": [],
   "source": [
    "def insert_cast(tx, title, cast):\n",
    "    for actor in cast:\n",
    "        query = \"\"\"\n",
    "            MERGE (p:Person {name: $actor})\n",
    "            WITH p\n",
    "            MATCH (m:Movie {title: $title})\n",
    "            MERGE (p)-[:ACTED_IN]->(m)\n",
    "        \"\"\"\n",
    "        tx.run(query, actor=actor, title=title)"
   ]
  },
  {
   "cell_type": "markdown",
   "metadata": {},
   "source": [
    "### Function to populate the Neo4j database with movie data from a CSV"
   ]
  },
  {
   "cell_type": "code",
   "execution_count": null,
   "metadata": {},
   "outputs": [],
   "source": [
    "def populate_neo4j(uri, username, password, csv_file):\n",
    "    # Load csv file\n",
    "    df = pd.read_csv(csv_file, engine='python')\n",
    "\n",
    "    # Create the Neo4j driver\n",
    "    driver = create_driver(uri, username, password)\n",
    "\n",
    "    # Use a session to execute write transactions\n",
    "    with driver.session() as session:\n",
    "        for index, row in df.iterrows():\n",
    "            movie = {\n",
    "                'title': row['title'],\n",
    "                'overview': row['overview'],\n",
    "                'release_date': row['release_date'],\n",
    "                'poster_url': row['poster_url']\n",
    "            }\n",
    "            genres = eval(row['genres']) if isinstance(row['genres'], str) else []\n",
    "            cast = eval(row['cast']) if isinstance(row['cast'], str) else []\n",
    "\n",
    "            # Insert Movie node\n",
    "            session.write_transaction(insert_movie, movie)\n",
    "\n",
    "            # Insert genre relationship\n",
    "            session.write_transaction(insert_genres, movie['title'], genres)\n",
    "\n",
    "            # Insert Cast relationship\n",
    "            session.write_transaction(insert_cast, movie['title'], cast)\n",
    "\n",
    "    driver.close()"
   ]
  },
  {
   "cell_type": "code",
   "execution_count": null,
   "metadata": {},
   "outputs": [],
   "source": [
    "from dotenv import load_dotenv\n",
    "import os\n",
    "\n",
    "load_dotenv()\n",
    "\n",
    "uri = os.getenv('NEO4J_URI')\n",
    "username = os.getenv('NEO4J_USERNAME')\n",
    "password = os.getenv('NEO4J_PASSWORD')\n",
    "csv_file = 'movies.csv'"
   ]
  },
  {
   "cell_type": "markdown",
   "metadata": {},
   "source": [
    "### Testing the connection to the neo4j password"
   ]
  },
  {
   "cell_type": "code",
   "execution_count": null,
   "metadata": {},
   "outputs": [],
   "source": [
    "\n",
    "def test_connection(uri, username, password):\n",
    "    driver = gdb.driver(uri, auth=(username, password))\n",
    "    try:\n",
    "        with driver.session() as session:\n",
    "            result = session.run(\"RETURN 'Connection successful!'\")\n",
    "            for record in result:\n",
    "                print(record)\n",
    "    except Exception as e:\n",
    "        print(f\"Error: {e}\")\n",
    "    finally:\n",
    "        driver.close()\n",
    "\n",
    "# Test connection\n",
    "test_connection(uri, username, password)"
   ]
  },
  {
   "cell_type": "markdown",
   "metadata": {},
   "source": [
    "### Calling the populate_neo4j function"
   ]
  },
  {
   "cell_type": "code",
   "execution_count": null,
   "metadata": {},
   "outputs": [],
   "source": [
    "# populate_neo4j(uri, username, password, csv_file)"
   ]
  },
  {
   "cell_type": "markdown",
   "metadata": {},
   "source": [
    "### Querying for Movie Recommendations"
   ]
  },
  {
   "cell_type": "code",
   "execution_count": null,
   "metadata": {},
   "outputs": [],
   "source": [
    "from neo4j import GraphDatabase\n",
    "\n",
    "def create_driver(uri, username, password):\n",
    "    return GraphDatabase.driver(uri, auth=(username, password))\n",
    "\n",
    "def close_driver(driver):\n",
    "    driver.close()"
   ]
  },
  {
   "cell_type": "code",
   "execution_count": null,
   "metadata": {},
   "outputs": [],
   "source": [
    "# Retrieve movies similar to a given movie based on shared genres\n",
    "def get_movie_recommendations(tx, title, limit=5):\n",
    "    query = \"\"\"\n",
    "    MATCH (m:Movie {title: $title})-[:BELONGS_TO]->(g:Genre)<-[:BELONGS_TO]-(rec:Movie)\n",
    "    WHERE m <> rec\n",
    "    RETURN rec.title AS title, COUNT(g) AS genre_overlap\n",
    "    ORDER BY genre_overlap DESC\n",
    "    LIMIT $limit\n",
    "    \"\"\"\n",
    "    result = tx.run(query, title=title, limit=limit)\n",
    "    return [record['title'] for record in result]\n"
   ]
  },
  {
   "cell_type": "code",
   "execution_count": null,
   "metadata": {},
   "outputs": [],
   "source": [
    "def recommend_movies(uri, username, password, movie_title, limit=5):\n",
    "    driver = create_driver(uri, username, password)\n",
    "    recommendations = []\n",
    "\n",
    "    with driver.session() as session:\n",
    "        recommendations = session.read_transaction(get_movie_recommendations, movie_title, limit)\n",
    "    close_driver(driver)\n",
    "    return recommendations"
   ]
  },
  {
   "cell_type": "code",
   "execution_count": null,
   "metadata": {},
   "outputs": [],
   "source": [
    "from dotenv import load_dotenv\n",
    "import os\n",
    "\n",
    "load_dotenv()\n",
    "\n",
    "uri = os.getenv('NEO4J_URI')\n",
    "username = os.getenv('NEO4J_USERNAME')\n",
    "password = os.getenv('NEO4J_PASSWORD')"
   ]
  },
  {
   "cell_type": "code",
   "execution_count": null,
   "metadata": {},
   "outputs": [],
   "source": [
    "movie_title = \"Inside Out 2\"\n",
    "recommendations = recommend_movies(uri, username, password, movie_title, limit=5)"
   ]
  },
  {
   "cell_type": "code",
   "execution_count": null,
   "metadata": {},
   "outputs": [],
   "source": [
    "for i, movie in enumerate(recommendations, start=1):\n",
    "    print(f'{i}. {movie}')"
   ]
  },
  {
   "cell_type": "markdown",
   "metadata": {},
   "source": [
    "### Weaviate Database"
   ]
  },
  {
   "cell_type": "code",
   "execution_count": null,
   "metadata": {},
   "outputs": [],
   "source": [
    "weaviate_url = os.getenv('WCD_URL')\n",
    "weaviate_api_key = os.getenv('API_KEY')\n",
    "huggingFace_access_token = os.getenv('HuggingFace_AccessToken')"
   ]
  },
  {
   "cell_type": "code",
   "execution_count": null,
   "metadata": {},
   "outputs": [],
   "source": [
    "client = wev.connect_to_wcs(\n",
    "    cluster_url=weaviate_url,\n",
    "    auth_credentials=wev.auth.AuthApiKey(weaviate_api_key),\n",
    "    headers={'X-Huggingface-Api-Key': huggingFace_access_token},\n",
    "    skip_init_checks=True\n",
    "    )\n",
    "\n",
    "client.is_ready()"
   ]
  },
  {
   "cell_type": "markdown",
   "metadata": {},
   "source": [
    "### Create a collection for movies"
   ]
  },
  {
   "cell_type": "code",
   "execution_count": null,
   "metadata": {},
   "outputs": [],
   "source": [
    "# Define the movie properties and configurations\n",
    "movie_properties = [\n",
    "    wc.Property(name=\"title\", data_type=wc.DataType.TEXT),\n",
    "    wc.Property(name=\"overview\", data_type=wc.DataType.TEXT)\n",
    "]\n",
    "\n",
    "vectorizer_config = wc.Configure.Vectorizer.text2vec_huggingface()\n",
    "\n",
    "vector_index_config = wc.Configure.VectorIndex.hnsw(\n",
    "    distance_metric=wc.VectorDistances.COSINE\n",
    ")\n",
    "\n",
    "generative_config = wc.Configure.Generative.openai()\n",
    "\n",
    "references = [\n",
    "    wc.ReferenceProperty(name=\"hasReview\", target_collection=\"Review\")\n",
    "]\n",
    "\n",
    "if not client.collections.exists('Movie'):\n",
    "    client.collections.create(\n",
    "        name='Movie',\n",
    "        properties=movie_properties,\n",
    "        vectorizer_config=vectorizer_config,\n",
    "        vector_index_config=vector_index_config,\n",
    "        generative_config=generative_config,\n",
    "        # references=references\n",
    "    )\n",
    "    print('Collection for Movie class created successfully.')\n",
    "else:\n",
    "    print('Collection for Movie class already exists.')\n",
    "\n"
   ]
  },
  {
   "cell_type": "markdown",
   "metadata": {},
   "source": [
    "### Add data to the Movie collection"
   ]
  },
  {
   "cell_type": "code",
   "execution_count": null,
   "metadata": {},
   "outputs": [],
   "source": [
    "movies = client.collections.get('Movie')\n",
    "data = pd.read_csv('movies.csv', engine='python')"
   ]
  },
  {
   "cell_type": "markdown",
   "metadata": {},
   "source": [
    "#### 1. Single Insert"
   ]
  },
  {
   "cell_type": "code",
   "execution_count": null,
   "metadata": {},
   "outputs": [],
   "source": [
    "# movies.data.insert(\n",
    "#     properties={'title': 'Twisters', 'overview': 'As storm season intensifies, the paths of form...'},\n",
    "    #   references={'hasReview': 'jim_uuid'}\n",
    "# )"
   ]
  },
  {
   "cell_type": "markdown",
   "metadata": {},
   "source": [
    "#### 2. Insert many by passing them as a list"
   ]
  },
  {
   "cell_type": "code",
   "execution_count": null,
   "metadata": {},
   "outputs": [],
   "source": [
    "# movie_list = [{'title': row['title'], 'overview': row['overview']} for _, row in movie_data.iterrows()]\n",
    "# movies.data.insert_many(movie)\n",
    "\n",
    "# from weaviate.classes.data import DataObject\n",
    "\n",
    "# movie_objs = [\n",
    "#     DataObject(\n",
    "#         properties={\n",
    "#             'title': row['title'], \n",
    "#             'overview': row['overview']\n",
    "#         },\n",
    "#         references={\n",
    "#             'hasReview': 'jim_uuid'\n",
    "#         }\n",
    "#     ) for _, row in movie_data.iterrows()\n",
    "# ]\n",
    "\n",
    "# movies.data.insert_many(movie_objs)"
   ]
  },
  {
   "cell_type": "markdown",
   "metadata": {},
   "source": [
    "#### 3. Using Batch functions for large datasets"
   ]
  },
  {
   "cell_type": "code",
   "execution_count": null,
   "metadata": {},
   "outputs": [],
   "source": [
    "# use a context manager\n",
    "# with movies.batch.dynamic() as batch:\n",
    "#     for _, row in data.iterrows():\n",
    "#         batch.add_object(\n",
    "#             properties={\n",
    "#                 'title': row['title'],\n",
    "#                 'overview': row['overview']\n",
    "#             }\n",
    "#         )\n",
    "#         if batch.number_errors > 1000:\n",
    "#             print(\"More than 1000 errors encountered, stopping the batch process.\")\n",
    "#             break\n",
    "\n",
    "# if len(movies.batch.failed_objects) > 0 or len(movies.batch.failed_references) > 0:\n",
    "#     print(\"Some objects or references failed to insert.\")\n",
    "# else:\n",
    "#     print(\"All objects were inserted successfully.\")"
   ]
  },
  {
   "cell_type": "markdown",
   "metadata": {},
   "source": [
    "## Querying data from the vector database"
   ]
  },
  {
   "cell_type": "code",
   "execution_count": null,
   "metadata": {},
   "outputs": [],
   "source": [
    "import weaviate.classes.query as wq\n",
    "\n",
    "\n",
    "movies = client.collections.get('Movie')\n",
    "\n",
    "# Near text search\n",
    "response = movies.query.near_text(\n",
    "    query='Twisters',\n",
    "    limit=2\n",
    "    # return_references=[wq.QueryReference(link_on='hasReview', return_properties=['username'])],\n",
    "    # return_properties=['title', 'tagline'],\n",
    "    # filters=(wq.Filter.by_property('runtime').less_than(100) & wq.Filter.by_property('runtime').greater_than(85))\n",
    ")\n",
    "\n",
    "response2 = movies.generate.near_text(\n",
    "    query='Twisters',\n",
    "    limit=4,\n",
    "    single_prompt=\"Translate this into Portugese: {title}\",\n",
    "    grouped_task=\"What do these movies have in common?\"\n",
    "    \n",
    ")\n",
    "\n",
    "print(response2.generated)\n",
    "\n",
    "for obj in response.objects:\n",
    "    print(obj.properties, obj.uuid)\n",
    "    # print(obj.references['hasReview'].objects[0].properties)\n",
    "    print(obj.properties['title'])"
   ]
  }
 ],
 "metadata": {
  "kernelspec": {
   "display_name": "env",
   "language": "python",
   "name": "python3"
  },
  "language_info": {
   "codemirror_mode": {
    "name": "ipython",
    "version": 3
   },
   "file_extension": ".py",
   "mimetype": "text/x-python",
   "name": "python",
   "nbconvert_exporter": "python",
   "pygments_lexer": "ipython3",
   "version": "3.11.9"
  }
 },
 "nbformat": 4,
 "nbformat_minor": 2
}
