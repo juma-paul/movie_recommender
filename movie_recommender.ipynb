{
 "cells": [
  {
   "cell_type": "code",
   "execution_count": 241,
   "metadata": {},
   "outputs": [],
   "source": [
    "import pandas as pd\n",
    "import cohere as co\n",
    "from neo4j import GraphDatabase as gdb\n",
    "import weaviate as wev\n",
    "import weaviate.classes.config as wc"
   ]
  },
  {
   "cell_type": "code",
   "execution_count": 242,
   "metadata": {},
   "outputs": [],
   "source": [
    "movie_data = pd.read_csv('movie_data.csv', engine='python')\n"
   ]
  },
  {
   "cell_type": "code",
   "execution_count": 243,
   "metadata": {},
   "outputs": [
    {
     "data": {
      "text/html": [
       "<div>\n",
       "<style scoped>\n",
       "    .dataframe tbody tr th:only-of-type {\n",
       "        vertical-align: middle;\n",
       "    }\n",
       "\n",
       "    .dataframe tbody tr th {\n",
       "        vertical-align: top;\n",
       "    }\n",
       "\n",
       "    .dataframe thead th {\n",
       "        text-align: right;\n",
       "    }\n",
       "</style>\n",
       "<table border=\"1\" class=\"dataframe\">\n",
       "  <thead>\n",
       "    <tr style=\"text-align: right;\">\n",
       "      <th></th>\n",
       "      <th>id</th>\n",
       "      <th>title</th>\n",
       "      <th>overview</th>\n",
       "      <th>genres</th>\n",
       "      <th>cast</th>\n",
       "      <th>poster_url</th>\n",
       "      <th>release_date</th>\n",
       "      <th>popularity</th>\n",
       "      <th>vote_average</th>\n",
       "      <th>vote_count</th>\n",
       "      <th>original_language</th>\n",
       "      <th>adult</th>\n",
       "    </tr>\n",
       "  </thead>\n",
       "  <tbody>\n",
       "    <tr>\n",
       "      <th>0</th>\n",
       "      <td>533535</td>\n",
       "      <td>Deadpool &amp; Wolverine</td>\n",
       "      <td>A listless Wade Wilson toils away in civilian ...</td>\n",
       "      <td>['Action', 'Comedy', 'Science Fiction']</td>\n",
       "      <td>['Ryan Reynolds', 'Hugh Jackman', 'Emma Corrin...</td>\n",
       "      <td>https://image.tmdb.org/t/p/w500/8cdWjvZQUExUUT...</td>\n",
       "      <td>2024-07-24</td>\n",
       "      <td>9866.173</td>\n",
       "      <td>7.776</td>\n",
       "      <td>2074</td>\n",
       "      <td>en</td>\n",
       "      <td>False</td>\n",
       "    </tr>\n",
       "    <tr>\n",
       "      <th>1</th>\n",
       "      <td>718821</td>\n",
       "      <td>Twisters</td>\n",
       "      <td>As storm season intensifies, the paths of form...</td>\n",
       "      <td>['Action', 'Adventure', 'Drama', 'Thriller']</td>\n",
       "      <td>['Daisy Edgar-Jones', 'Glen Powell', 'Anthony ...</td>\n",
       "      <td>https://image.tmdb.org/t/p/w500/pjnD08FlMAIXsf...</td>\n",
       "      <td>2024-07-10</td>\n",
       "      <td>4687.952</td>\n",
       "      <td>7.07</td>\n",
       "      <td>865</td>\n",
       "      <td>en</td>\n",
       "      <td>False</td>\n",
       "    </tr>\n",
       "    <tr>\n",
       "      <th>2</th>\n",
       "      <td>519182</td>\n",
       "      <td>Despicable Me 4</td>\n",
       "      <td>Gru and Lucy and their girls—Margo, Edith and ...</td>\n",
       "      <td>['Animation', 'Family', 'Comedy', 'Action']</td>\n",
       "      <td>['Steve Carell', 'Kristen Wiig', 'Will Ferrell...</td>\n",
       "      <td>https://image.tmdb.org/t/p/w500/wWba3TaojhK7Nd...</td>\n",
       "      <td>2024-06-20</td>\n",
       "      <td>3270.437</td>\n",
       "      <td>7.327</td>\n",
       "      <td>1104</td>\n",
       "      <td>en</td>\n",
       "      <td>False</td>\n",
       "    </tr>\n",
       "    <tr>\n",
       "      <th>3</th>\n",
       "      <td>1022789</td>\n",
       "      <td>Inside Out 2</td>\n",
       "      <td>Teenager Riley's mind headquarters is undergoi...</td>\n",
       "      <td>['Animation', 'Family', 'Adventure', 'Comedy']</td>\n",
       "      <td>['Amy Poehler', 'Maya Hawke', 'Kensington Tall...</td>\n",
       "      <td>https://image.tmdb.org/t/p/w500/vpnVM9B6NMmQpW...</td>\n",
       "      <td>2024-06-11</td>\n",
       "      <td>3210.402</td>\n",
       "      <td>7.604</td>\n",
       "      <td>2438</td>\n",
       "      <td>en</td>\n",
       "      <td>False</td>\n",
       "    </tr>\n",
       "    <tr>\n",
       "      <th>4</th>\n",
       "      <td>573435</td>\n",
       "      <td>Bad Boys: Ride or Die</td>\n",
       "      <td>After their late former Captain is framed, Low...</td>\n",
       "      <td>['Action', 'Crime', 'Thriller', 'Comedy']</td>\n",
       "      <td>['Will Smith', 'Martin Lawrence', 'Vanessa Hud...</td>\n",
       "      <td>https://image.tmdb.org/t/p/w500/oGythE98MYleE6...</td>\n",
       "      <td>2024-06-05</td>\n",
       "      <td>2973.442</td>\n",
       "      <td>7.62</td>\n",
       "      <td>1610</td>\n",
       "      <td>en</td>\n",
       "      <td>False</td>\n",
       "    </tr>\n",
       "  </tbody>\n",
       "</table>\n",
       "</div>"
      ],
      "text/plain": [
       "        id                  title  \\\n",
       "0   533535   Deadpool & Wolverine   \n",
       "1   718821               Twisters   \n",
       "2   519182        Despicable Me 4   \n",
       "3  1022789           Inside Out 2   \n",
       "4   573435  Bad Boys: Ride or Die   \n",
       "\n",
       "                                            overview  \\\n",
       "0  A listless Wade Wilson toils away in civilian ...   \n",
       "1  As storm season intensifies, the paths of form...   \n",
       "2  Gru and Lucy and their girls—Margo, Edith and ...   \n",
       "3  Teenager Riley's mind headquarters is undergoi...   \n",
       "4  After their late former Captain is framed, Low...   \n",
       "\n",
       "                                           genres  \\\n",
       "0         ['Action', 'Comedy', 'Science Fiction']   \n",
       "1    ['Action', 'Adventure', 'Drama', 'Thriller']   \n",
       "2     ['Animation', 'Family', 'Comedy', 'Action']   \n",
       "3  ['Animation', 'Family', 'Adventure', 'Comedy']   \n",
       "4       ['Action', 'Crime', 'Thriller', 'Comedy']   \n",
       "\n",
       "                                                cast  \\\n",
       "0  ['Ryan Reynolds', 'Hugh Jackman', 'Emma Corrin...   \n",
       "1  ['Daisy Edgar-Jones', 'Glen Powell', 'Anthony ...   \n",
       "2  ['Steve Carell', 'Kristen Wiig', 'Will Ferrell...   \n",
       "3  ['Amy Poehler', 'Maya Hawke', 'Kensington Tall...   \n",
       "4  ['Will Smith', 'Martin Lawrence', 'Vanessa Hud...   \n",
       "\n",
       "                                          poster_url release_date  popularity  \\\n",
       "0  https://image.tmdb.org/t/p/w500/8cdWjvZQUExUUT...   2024-07-24    9866.173   \n",
       "1  https://image.tmdb.org/t/p/w500/pjnD08FlMAIXsf...   2024-07-10    4687.952   \n",
       "2  https://image.tmdb.org/t/p/w500/wWba3TaojhK7Nd...   2024-06-20    3270.437   \n",
       "3  https://image.tmdb.org/t/p/w500/vpnVM9B6NMmQpW...   2024-06-11    3210.402   \n",
       "4  https://image.tmdb.org/t/p/w500/oGythE98MYleE6...   2024-06-05    2973.442   \n",
       "\n",
       "  vote_average vote_count original_language  adult  \n",
       "0        7.776       2074                en  False  \n",
       "1         7.07        865                en  False  \n",
       "2        7.327       1104                en  False  \n",
       "3        7.604       2438                en  False  \n",
       "4         7.62       1610                en  False  "
      ]
     },
     "execution_count": 243,
     "metadata": {},
     "output_type": "execute_result"
    }
   ],
   "source": [
    "movie_data.head()"
   ]
  },
  {
   "cell_type": "code",
   "execution_count": 244,
   "metadata": {},
   "outputs": [
    {
     "data": {
      "text/plain": [
       "id                    0\n",
       "title                 0\n",
       "overview             76\n",
       "genres                1\n",
       "cast                  1\n",
       "poster_url            1\n",
       "release_date         36\n",
       "popularity            1\n",
       "vote_average          1\n",
       "vote_count            1\n",
       "original_language     2\n",
       "adult                 2\n",
       "dtype: int64"
      ]
     },
     "execution_count": 244,
     "metadata": {},
     "output_type": "execute_result"
    }
   ],
   "source": [
    "movie_data.isnull().sum()"
   ]
  },
  {
   "cell_type": "code",
   "execution_count": 245,
   "metadata": {},
   "outputs": [
    {
     "data": {
      "text/plain": [
       "np.int64(0)"
      ]
     },
     "execution_count": 245,
     "metadata": {},
     "output_type": "execute_result"
    }
   ],
   "source": [
    "movie_data.duplicated().sum()"
   ]
  },
  {
   "cell_type": "code",
   "execution_count": 246,
   "metadata": {},
   "outputs": [],
   "source": [
    "movie_data.dropna(inplace=True)"
   ]
  },
  {
   "cell_type": "code",
   "execution_count": 247,
   "metadata": {},
   "outputs": [
    {
     "data": {
      "text/plain": [
       "id                   0\n",
       "title                0\n",
       "overview             0\n",
       "genres               0\n",
       "cast                 0\n",
       "poster_url           0\n",
       "release_date         0\n",
       "popularity           0\n",
       "vote_average         0\n",
       "vote_count           0\n",
       "original_language    0\n",
       "adult                0\n",
       "dtype: int64"
      ]
     },
     "execution_count": 247,
     "metadata": {},
     "output_type": "execute_result"
    }
   ],
   "source": [
    "movie_data.isnull().sum()"
   ]
  },
  {
   "cell_type": "code",
   "execution_count": 248,
   "metadata": {},
   "outputs": [
    {
     "data": {
      "text/html": [
       "<div>\n",
       "<style scoped>\n",
       "    .dataframe tbody tr th:only-of-type {\n",
       "        vertical-align: middle;\n",
       "    }\n",
       "\n",
       "    .dataframe tbody tr th {\n",
       "        vertical-align: top;\n",
       "    }\n",
       "\n",
       "    .dataframe thead th {\n",
       "        text-align: right;\n",
       "    }\n",
       "</style>\n",
       "<table border=\"1\" class=\"dataframe\">\n",
       "  <thead>\n",
       "    <tr style=\"text-align: right;\">\n",
       "      <th></th>\n",
       "      <th>id</th>\n",
       "      <th>title</th>\n",
       "      <th>overview</th>\n",
       "      <th>genres</th>\n",
       "      <th>cast</th>\n",
       "      <th>poster_url</th>\n",
       "      <th>release_date</th>\n",
       "      <th>popularity</th>\n",
       "      <th>vote_average</th>\n",
       "      <th>vote_count</th>\n",
       "      <th>original_language</th>\n",
       "      <th>adult</th>\n",
       "    </tr>\n",
       "  </thead>\n",
       "  <tbody>\n",
       "    <tr>\n",
       "      <th>0</th>\n",
       "      <td>533535</td>\n",
       "      <td>Deadpool &amp; Wolverine</td>\n",
       "      <td>A listless Wade Wilson toils away in civilian ...</td>\n",
       "      <td>['Action', 'Comedy', 'Science Fiction']</td>\n",
       "      <td>['Ryan Reynolds', 'Hugh Jackman', 'Emma Corrin...</td>\n",
       "      <td>https://image.tmdb.org/t/p/w500/8cdWjvZQUExUUT...</td>\n",
       "      <td>2024-07-24</td>\n",
       "      <td>9866.173</td>\n",
       "      <td>7.776</td>\n",
       "      <td>2074</td>\n",
       "      <td>en</td>\n",
       "      <td>False</td>\n",
       "    </tr>\n",
       "    <tr>\n",
       "      <th>1</th>\n",
       "      <td>718821</td>\n",
       "      <td>Twisters</td>\n",
       "      <td>As storm season intensifies, the paths of form...</td>\n",
       "      <td>['Action', 'Adventure', 'Drama', 'Thriller']</td>\n",
       "      <td>['Daisy Edgar-Jones', 'Glen Powell', 'Anthony ...</td>\n",
       "      <td>https://image.tmdb.org/t/p/w500/pjnD08FlMAIXsf...</td>\n",
       "      <td>2024-07-10</td>\n",
       "      <td>4687.952</td>\n",
       "      <td>7.07</td>\n",
       "      <td>865</td>\n",
       "      <td>en</td>\n",
       "      <td>False</td>\n",
       "    </tr>\n",
       "    <tr>\n",
       "      <th>2</th>\n",
       "      <td>519182</td>\n",
       "      <td>Despicable Me 4</td>\n",
       "      <td>Gru and Lucy and their girls—Margo, Edith and ...</td>\n",
       "      <td>['Animation', 'Family', 'Comedy', 'Action']</td>\n",
       "      <td>['Steve Carell', 'Kristen Wiig', 'Will Ferrell...</td>\n",
       "      <td>https://image.tmdb.org/t/p/w500/wWba3TaojhK7Nd...</td>\n",
       "      <td>2024-06-20</td>\n",
       "      <td>3270.437</td>\n",
       "      <td>7.327</td>\n",
       "      <td>1104</td>\n",
       "      <td>en</td>\n",
       "      <td>False</td>\n",
       "    </tr>\n",
       "    <tr>\n",
       "      <th>3</th>\n",
       "      <td>1022789</td>\n",
       "      <td>Inside Out 2</td>\n",
       "      <td>Teenager Riley's mind headquarters is undergoi...</td>\n",
       "      <td>['Animation', 'Family', 'Adventure', 'Comedy']</td>\n",
       "      <td>['Amy Poehler', 'Maya Hawke', 'Kensington Tall...</td>\n",
       "      <td>https://image.tmdb.org/t/p/w500/vpnVM9B6NMmQpW...</td>\n",
       "      <td>2024-06-11</td>\n",
       "      <td>3210.402</td>\n",
       "      <td>7.604</td>\n",
       "      <td>2438</td>\n",
       "      <td>en</td>\n",
       "      <td>False</td>\n",
       "    </tr>\n",
       "    <tr>\n",
       "      <th>4</th>\n",
       "      <td>573435</td>\n",
       "      <td>Bad Boys: Ride or Die</td>\n",
       "      <td>After their late former Captain is framed, Low...</td>\n",
       "      <td>['Action', 'Crime', 'Thriller', 'Comedy']</td>\n",
       "      <td>['Will Smith', 'Martin Lawrence', 'Vanessa Hud...</td>\n",
       "      <td>https://image.tmdb.org/t/p/w500/oGythE98MYleE6...</td>\n",
       "      <td>2024-06-05</td>\n",
       "      <td>2973.442</td>\n",
       "      <td>7.62</td>\n",
       "      <td>1610</td>\n",
       "      <td>en</td>\n",
       "      <td>False</td>\n",
       "    </tr>\n",
       "    <tr>\n",
       "      <th>...</th>\n",
       "      <td>...</td>\n",
       "      <td>...</td>\n",
       "      <td>...</td>\n",
       "      <td>...</td>\n",
       "      <td>...</td>\n",
       "      <td>...</td>\n",
       "      <td>...</td>\n",
       "      <td>...</td>\n",
       "      <td>...</td>\n",
       "      <td>...</td>\n",
       "      <td>...</td>\n",
       "      <td>...</td>\n",
       "    </tr>\n",
       "    <tr>\n",
       "      <th>9940</th>\n",
       "      <td>7348</td>\n",
       "      <td>Robinson Crusoe on Mars</td>\n",
       "      <td>Stranded on Mars with only a monkey as a compa...</td>\n",
       "      <td>['Science Fiction', 'Adventure']</td>\n",
       "      <td>['Paul Mantee', 'Victor Lundin', 'Adam West', ...</td>\n",
       "      <td>https://image.tmdb.org/t/p/w500/kzs1HUxP1HzLNd...</td>\n",
       "      <td>1964-06-01</td>\n",
       "      <td>19.936</td>\n",
       "      <td>6.263</td>\n",
       "      <td>133</td>\n",
       "      <td>en</td>\n",
       "      <td>False</td>\n",
       "    </tr>\n",
       "    <tr>\n",
       "      <th>9942</th>\n",
       "      <td>29427</td>\n",
       "      <td>The Crazies</td>\n",
       "      <td>Four friends find themselves trapped in their ...</td>\n",
       "      <td>['Mystery', 'Horror', 'Action']</td>\n",
       "      <td>['Timothy Olyphant', 'Radha Mitchell', 'Joe An...</td>\n",
       "      <td>https://image.tmdb.org/t/p/w500/ggtG9DZELyTtM2...</td>\n",
       "      <td>2010-02-26</td>\n",
       "      <td>19.932</td>\n",
       "      <td>6.263</td>\n",
       "      <td>1989</td>\n",
       "      <td>en</td>\n",
       "      <td>False</td>\n",
       "    </tr>\n",
       "    <tr>\n",
       "      <th>9943</th>\n",
       "      <td>774741</td>\n",
       "      <td>Diary of a Wimpy Kid</td>\n",
       "      <td>Greg Heffley is a scrawny but ambitious kid wi...</td>\n",
       "      <td>['Animation', 'Comedy', 'Family']</td>\n",
       "      <td>['Brady Noon', 'Ethan William Childress', 'Hun...</td>\n",
       "      <td>https://image.tmdb.org/t/p/w500/9ygyYYbBtBRaAn...</td>\n",
       "      <td>2021-12-02</td>\n",
       "      <td>19.929</td>\n",
       "      <td>6.179</td>\n",
       "      <td>344</td>\n",
       "      <td>en</td>\n",
       "      <td>False</td>\n",
       "    </tr>\n",
       "    <tr>\n",
       "      <th>9944</th>\n",
       "      <td>25941</td>\n",
       "      <td>Harry Brown</td>\n",
       "      <td>An elderly ex-serviceman and widower looks to ...</td>\n",
       "      <td>['Thriller', 'Crime', 'Drama', 'Action']</td>\n",
       "      <td>['Michael Caine', 'Emily Mortimer', 'Iain Glen...</td>\n",
       "      <td>https://image.tmdb.org/t/p/w500/lk9qVzvPHuL2vX...</td>\n",
       "      <td>2009-11-11</td>\n",
       "      <td>19.928</td>\n",
       "      <td>6.8</td>\n",
       "      <td>1021</td>\n",
       "      <td>en</td>\n",
       "      <td>False</td>\n",
       "    </tr>\n",
       "    <tr>\n",
       "      <th>9945</th>\n",
       "      <td>6520</td>\n",
       "      <td>First Knight</td>\n",
       "      <td>The timeless tale of King Arthur and the legen...</td>\n",
       "      <td>['Action', 'Adventure', 'Drama', 'Romance']</td>\n",
       "      <td>['Sean Connery', 'Richard Gere', 'Julia Ormond...</td>\n",
       "      <td>https://image.tmdb.org/t/p/w500/xuXkCcrvUTkehV...</td>\n",
       "      <td>1995-07-07</td>\n",
       "      <td>19.926</td>\n",
       "      <td>6.08</td>\n",
       "      <td>1159</td>\n",
       "      <td>en</td>\n",
       "      <td>False</td>\n",
       "    </tr>\n",
       "  </tbody>\n",
       "</table>\n",
       "<p>9843 rows × 12 columns</p>\n",
       "</div>"
      ],
      "text/plain": [
       "           id                    title  \\\n",
       "0      533535     Deadpool & Wolverine   \n",
       "1      718821                 Twisters   \n",
       "2      519182          Despicable Me 4   \n",
       "3     1022789             Inside Out 2   \n",
       "4      573435    Bad Boys: Ride or Die   \n",
       "...       ...                      ...   \n",
       "9940     7348  Robinson Crusoe on Mars   \n",
       "9942    29427              The Crazies   \n",
       "9943   774741     Diary of a Wimpy Kid   \n",
       "9944    25941              Harry Brown   \n",
       "9945     6520             First Knight   \n",
       "\n",
       "                                               overview  \\\n",
       "0     A listless Wade Wilson toils away in civilian ...   \n",
       "1     As storm season intensifies, the paths of form...   \n",
       "2     Gru and Lucy and their girls—Margo, Edith and ...   \n",
       "3     Teenager Riley's mind headquarters is undergoi...   \n",
       "4     After their late former Captain is framed, Low...   \n",
       "...                                                 ...   \n",
       "9940  Stranded on Mars with only a monkey as a compa...   \n",
       "9942  Four friends find themselves trapped in their ...   \n",
       "9943  Greg Heffley is a scrawny but ambitious kid wi...   \n",
       "9944  An elderly ex-serviceman and widower looks to ...   \n",
       "9945  The timeless tale of King Arthur and the legen...   \n",
       "\n",
       "                                              genres  \\\n",
       "0            ['Action', 'Comedy', 'Science Fiction']   \n",
       "1       ['Action', 'Adventure', 'Drama', 'Thriller']   \n",
       "2        ['Animation', 'Family', 'Comedy', 'Action']   \n",
       "3     ['Animation', 'Family', 'Adventure', 'Comedy']   \n",
       "4          ['Action', 'Crime', 'Thriller', 'Comedy']   \n",
       "...                                              ...   \n",
       "9940                ['Science Fiction', 'Adventure']   \n",
       "9942                 ['Mystery', 'Horror', 'Action']   \n",
       "9943               ['Animation', 'Comedy', 'Family']   \n",
       "9944        ['Thriller', 'Crime', 'Drama', 'Action']   \n",
       "9945     ['Action', 'Adventure', 'Drama', 'Romance']   \n",
       "\n",
       "                                                   cast  \\\n",
       "0     ['Ryan Reynolds', 'Hugh Jackman', 'Emma Corrin...   \n",
       "1     ['Daisy Edgar-Jones', 'Glen Powell', 'Anthony ...   \n",
       "2     ['Steve Carell', 'Kristen Wiig', 'Will Ferrell...   \n",
       "3     ['Amy Poehler', 'Maya Hawke', 'Kensington Tall...   \n",
       "4     ['Will Smith', 'Martin Lawrence', 'Vanessa Hud...   \n",
       "...                                                 ...   \n",
       "9940  ['Paul Mantee', 'Victor Lundin', 'Adam West', ...   \n",
       "9942  ['Timothy Olyphant', 'Radha Mitchell', 'Joe An...   \n",
       "9943  ['Brady Noon', 'Ethan William Childress', 'Hun...   \n",
       "9944  ['Michael Caine', 'Emily Mortimer', 'Iain Glen...   \n",
       "9945  ['Sean Connery', 'Richard Gere', 'Julia Ormond...   \n",
       "\n",
       "                                             poster_url release_date  \\\n",
       "0     https://image.tmdb.org/t/p/w500/8cdWjvZQUExUUT...   2024-07-24   \n",
       "1     https://image.tmdb.org/t/p/w500/pjnD08FlMAIXsf...   2024-07-10   \n",
       "2     https://image.tmdb.org/t/p/w500/wWba3TaojhK7Nd...   2024-06-20   \n",
       "3     https://image.tmdb.org/t/p/w500/vpnVM9B6NMmQpW...   2024-06-11   \n",
       "4     https://image.tmdb.org/t/p/w500/oGythE98MYleE6...   2024-06-05   \n",
       "...                                                 ...          ...   \n",
       "9940  https://image.tmdb.org/t/p/w500/kzs1HUxP1HzLNd...   1964-06-01   \n",
       "9942  https://image.tmdb.org/t/p/w500/ggtG9DZELyTtM2...   2010-02-26   \n",
       "9943  https://image.tmdb.org/t/p/w500/9ygyYYbBtBRaAn...   2021-12-02   \n",
       "9944  https://image.tmdb.org/t/p/w500/lk9qVzvPHuL2vX...   2009-11-11   \n",
       "9945  https://image.tmdb.org/t/p/w500/xuXkCcrvUTkehV...   1995-07-07   \n",
       "\n",
       "      popularity vote_average vote_count original_language  adult  \n",
       "0       9866.173        7.776       2074                en  False  \n",
       "1       4687.952         7.07        865                en  False  \n",
       "2       3270.437        7.327       1104                en  False  \n",
       "3       3210.402        7.604       2438                en  False  \n",
       "4       2973.442         7.62       1610                en  False  \n",
       "...          ...          ...        ...               ...    ...  \n",
       "9940      19.936        6.263        133                en  False  \n",
       "9942      19.932        6.263       1989                en  False  \n",
       "9943      19.929        6.179        344                en  False  \n",
       "9944      19.928          6.8       1021                en  False  \n",
       "9945      19.926         6.08       1159                en  False  \n",
       "\n",
       "[9843 rows x 12 columns]"
      ]
     },
     "execution_count": 248,
     "metadata": {},
     "output_type": "execute_result"
    }
   ],
   "source": [
    "movie_data"
   ]
  },
  {
   "cell_type": "code",
   "execution_count": 249,
   "metadata": {},
   "outputs": [],
   "source": [
    "movie_data = movie_data[['title', 'overview', 'genres', 'cast', 'poster_url', 'release_date']]"
   ]
  },
  {
   "cell_type": "markdown",
   "metadata": {},
   "source": [
    "## Load csv data and populate  Neo4j"
   ]
  },
  {
   "cell_type": "markdown",
   "metadata": {},
   "source": [
    "### Function to create a Neo4j driver"
   ]
  },
  {
   "cell_type": "code",
   "execution_count": 250,
   "metadata": {},
   "outputs": [],
   "source": [
    "def create_driver(uri, username, password):\n",
    "    driver = gdb.driver(uri, auth=(username, password))\n",
    "    return driver"
   ]
  },
  {
   "cell_type": "markdown",
   "metadata": {},
   "source": [
    "### Function to insert movies into the Neo4j database"
   ]
  },
  {
   "cell_type": "code",
   "execution_count": 251,
   "metadata": {},
   "outputs": [],
   "source": [
    "def insert_movie(tx, movie):\n",
    "    # cypher query to create a Movie node with it's properties\n",
    "    query = \"\"\"\n",
    "    MERGE (m:Movie {title: $title})\n",
    "    SET m.overview = $overview,\n",
    "        m.release_date = $release_date,\n",
    "        m.poster_url = $poster_url\n",
    "    \"\"\"\n",
    "    tx.run(query, movie)"
   ]
  },
  {
   "cell_type": "markdown",
   "metadata": {},
   "source": [
    "### Function to insert genres and their relationships with movies"
   ]
  },
  {
   "cell_type": "code",
   "execution_count": 252,
   "metadata": {},
   "outputs": [],
   "source": [
    "def insert_genres(tx, title, genres):\n",
    "    for genre in genres:\n",
    "        query = \"\"\"\n",
    "            MERGE (g:Genre {name: $genre})\n",
    "            WITH g\n",
    "            MATCH (m:Movie {title: $title})\n",
    "            MERGE (m)-[:BELONGS_TO]->(g)\n",
    "        \"\"\"\n",
    "        tx.run(query, genre=genre, title=title)"
   ]
  },
  {
   "cell_type": "markdown",
   "metadata": {},
   "source": [
    "### Function to insert cast members and their relationships with movies"
   ]
  },
  {
   "cell_type": "code",
   "execution_count": 253,
   "metadata": {},
   "outputs": [],
   "source": [
    "def insert_cast(tx, title, cast):\n",
    "    for actor in cast:\n",
    "        query = \"\"\"\n",
    "            MERGE (p:Person {name: $actor})\n",
    "            WITH p\n",
    "            MATCH (m:Movie {title: $title})\n",
    "            MERGE (p)-[:ACTED_IN]->(m)\n",
    "        \"\"\"\n",
    "        tx.run(query, actor=actor, title=title)"
   ]
  },
  {
   "cell_type": "markdown",
   "metadata": {},
   "source": [
    "### Function to populate the Neo4j database with movie data from a CSV"
   ]
  },
  {
   "cell_type": "code",
   "execution_count": 254,
   "metadata": {},
   "outputs": [],
   "source": [
    "def populate_neo4j(uri, username, password, csv_file):\n",
    "    # Load csv file\n",
    "    df = pd.read_csv(csv_file, engine='python')\n",
    "\n",
    "    # Create the Neo4j driver\n",
    "    driver = create_driver(uri, username, password)\n",
    "\n",
    "    # Use a session to execute write transactions\n",
    "    with driver.session() as session:\n",
    "        for index, row in df.iterrows():\n",
    "            movie = {\n",
    "                'title': row['title'],\n",
    "                'overview': row['overview'],\n",
    "                'release_date': row['release_date'],\n",
    "                'poster_url': row['poster_url']\n",
    "            }\n",
    "            genres = eval(row['genres']) if isinstance(row['genres'], str) else []\n",
    "            cast = eval(row['cast']) if isinstance(row['cast'], str) else []\n",
    "\n",
    "            # Insert Movie node\n",
    "            session.write_transaction(insert_movie, movie)\n",
    "\n",
    "            # Insert genre relationship\n",
    "            session.write_transaction(insert_genres, movie['title'], genres)\n",
    "\n",
    "            # Insert Cast relationship\n",
    "            session.write_transaction(insert_cast, movie['title'], cast)\n",
    "\n",
    "    driver.close()"
   ]
  },
  {
   "cell_type": "code",
   "execution_count": 255,
   "metadata": {},
   "outputs": [],
   "source": [
    "from dotenv import load_dotenv\n",
    "import os\n",
    "\n",
    "load_dotenv()\n",
    "\n",
    "uri = os.getenv('NEO4J_URI')\n",
    "username = os.getenv('NEO4J_USERNAME')\n",
    "password = os.getenv('NEO4J_PASSWORD')\n",
    "csv_file = 'movies.csv'"
   ]
  },
  {
   "cell_type": "markdown",
   "metadata": {},
   "source": [
    "### Testing the connection to the neo4j password"
   ]
  },
  {
   "cell_type": "code",
   "execution_count": 256,
   "metadata": {},
   "outputs": [
    {
     "name": "stdout",
     "output_type": "stream",
     "text": [
      "<Record 'Connection successful!'='Connection successful!'>\n"
     ]
    }
   ],
   "source": [
    "\n",
    "def test_connection(uri, username, password):\n",
    "    driver = gdb.driver(uri, auth=(username, password))\n",
    "    try:\n",
    "        with driver.session() as session:\n",
    "            result = session.run(\"RETURN 'Connection successful!'\")\n",
    "            for record in result:\n",
    "                print(record)\n",
    "    except Exception as e:\n",
    "        print(f\"Error: {e}\")\n",
    "    finally:\n",
    "        driver.close()\n",
    "\n",
    "# Test connection\n",
    "test_connection(uri, username, password)"
   ]
  },
  {
   "cell_type": "markdown",
   "metadata": {},
   "source": [
    "### Calling the populate_neo4j function"
   ]
  },
  {
   "cell_type": "code",
   "execution_count": 257,
   "metadata": {},
   "outputs": [],
   "source": [
    "# populate_neo4j(uri, username, password, csv_file)"
   ]
  },
  {
   "cell_type": "markdown",
   "metadata": {},
   "source": [
    "### Querying for Movie Recommendations"
   ]
  },
  {
   "cell_type": "code",
   "execution_count": 258,
   "metadata": {},
   "outputs": [],
   "source": [
    "from neo4j import GraphDatabase\n",
    "\n",
    "def create_driver(uri, username, password):\n",
    "    return GraphDatabase.driver(uri, auth=(username, password))\n",
    "\n",
    "def close_driver(driver):\n",
    "    driver.close()"
   ]
  },
  {
   "cell_type": "code",
   "execution_count": 259,
   "metadata": {},
   "outputs": [],
   "source": [
    "# Retrieve movies similar to a given movie based on shared genres\n",
    "def get_movie_recommendations(tx, title, limit=5):\n",
    "    query = \"\"\"\n",
    "    MATCH (m:Movie {title: $title})-[:BELONGS_TO]->(g:Genre)<-[:BELONGS_TO]-(rec:Movie)\n",
    "    WHERE m <> rec\n",
    "    RETURN rec.title AS title, COUNT(g) AS genre_overlap\n",
    "    ORDER BY genre_overlap DESC\n",
    "    LIMIT $limit\n",
    "    \"\"\"\n",
    "    result = tx.run(query, title=title, limit=limit)\n",
    "    return [record['title'] for record in result]\n"
   ]
  },
  {
   "cell_type": "code",
   "execution_count": 260,
   "metadata": {},
   "outputs": [],
   "source": [
    "def recommend_movies(uri, username, password, movie_title, limit=5):\n",
    "    driver = create_driver(uri, username, password)\n",
    "    recommendations = []\n",
    "\n",
    "    with driver.session() as session:\n",
    "        recommendations = session.read_transaction(get_movie_recommendations, movie_title, limit)\n",
    "    close_driver(driver)\n",
    "    return recommendations"
   ]
  },
  {
   "cell_type": "code",
   "execution_count": 261,
   "metadata": {},
   "outputs": [],
   "source": [
    "from dotenv import load_dotenv\n",
    "import os\n",
    "\n",
    "load_dotenv()\n",
    "\n",
    "uri = os.getenv('NEO4J_URI')\n",
    "username = os.getenv('NEO4J_USERNAME')\n",
    "password = os.getenv('NEO4J_PASSWORD')"
   ]
  },
  {
   "cell_type": "code",
   "execution_count": 262,
   "metadata": {},
   "outputs": [
    {
     "name": "stderr",
     "output_type": "stream",
     "text": [
      "/var/folders/vk/tmm1dhjx7p30tdfcvdz9_m280000gn/T/ipykernel_13466/1450798905.py:6: DeprecationWarning: read_transaction has been renamed to execute_read\n",
      "  recommendations = session.read_transaction(get_movie_recommendations, movie_title, limit)\n"
     ]
    }
   ],
   "source": [
    "movie_title = \"Inside Out 2\"\n",
    "recommendations = recommend_movies(uri, username, password, movie_title, limit=5)"
   ]
  },
  {
   "cell_type": "code",
   "execution_count": 263,
   "metadata": {},
   "outputs": [
    {
     "name": "stdout",
     "output_type": "stream",
     "text": [
      "1. Migration\n",
      "2. Inside Out\n",
      "3. Saving Bikini Bottom: The Sandy Cheeks Movie\n",
      "4. The Garfield Movie\n",
      "5. Run, Tiger Run!\n"
     ]
    }
   ],
   "source": [
    "for i, movie in enumerate(recommendations, start=1):\n",
    "    print(f'{i}. {movie}')"
   ]
  },
  {
   "cell_type": "markdown",
   "metadata": {},
   "source": [
    "### Weaviate Database"
   ]
  },
  {
   "cell_type": "code",
   "execution_count": 264,
   "metadata": {},
   "outputs": [],
   "source": [
    "weaviate_url = os.getenv('WCD_URL')\n",
    "weaviate_api_key = os.getenv('API_KEY')\n",
    "huggingFace_access_token = os.getenv('HuggingFace_AccessToken')"
   ]
  },
  {
   "cell_type": "code",
   "execution_count": 265,
   "metadata": {},
   "outputs": [
    {
     "data": {
      "text/plain": [
       "True"
      ]
     },
     "execution_count": 265,
     "metadata": {},
     "output_type": "execute_result"
    }
   ],
   "source": [
    "client = wev.connect_to_wcs(\n",
    "    cluster_url=weaviate_url,\n",
    "    auth_credentials=wev.auth.AuthApiKey(weaviate_api_key),\n",
    "    headers={'X-Huggingface-Api-Key': huggingFace_access_token},\n",
    "    skip_init_checks=True\n",
    "    )\n",
    "\n",
    "client.is_ready()"
   ]
  },
  {
   "cell_type": "markdown",
   "metadata": {},
   "source": [
    "### Create a collection for movies"
   ]
  },
  {
   "cell_type": "code",
   "execution_count": 266,
   "metadata": {},
   "outputs": [
    {
     "name": "stdout",
     "output_type": "stream",
     "text": [
      "Collection for Movie class already exists.\n"
     ]
    }
   ],
   "source": [
    "# Define the movie properties and configurations\n",
    "movie_properties = [\n",
    "    wc.Property(name=\"title\", data_type=wc.DataType.TEXT),\n",
    "    wc.Property(name=\"overview\", data_type=wc.DataType.TEXT)\n",
    "]\n",
    "\n",
    "vectorizer_config = wc.Configure.Vectorizer.text2vec_huggingface()\n",
    "\n",
    "vector_index_config = wc.Configure.VectorIndex.hnsw(\n",
    "    distance_metric=wc.VectorDistances.COSINE\n",
    ")\n",
    "\n",
    "generative_config = wc.Configure.Generative.openai()\n",
    "\n",
    "references = [\n",
    "    wc.ReferenceProperty(name=\"hasReview\", target_collection=\"Review\")\n",
    "]\n",
    "\n",
    "if not client.collections.exists('Movie'):\n",
    "    client.collections.create(\n",
    "        name='Movie',\n",
    "        properties=movie_properties,\n",
    "        vectorizer_config=vectorizer_config,\n",
    "        vector_index_config=vector_index_config,\n",
    "        generative_config=generative_config,\n",
    "        # references=references\n",
    "    )\n",
    "    print('Collection for Movie class created successfully.')\n",
    "else:\n",
    "    print('Collection for Movie class already exists.')\n",
    "\n"
   ]
  },
  {
   "cell_type": "markdown",
   "metadata": {},
   "source": [
    "### Add data to the Movie collection"
   ]
  },
  {
   "cell_type": "code",
   "execution_count": 267,
   "metadata": {},
   "outputs": [],
   "source": [
    "movies = client.collections.get('Movie')"
   ]
  },
  {
   "cell_type": "markdown",
   "metadata": {},
   "source": [
    "#### 1. Single Insert"
   ]
  },
  {
   "cell_type": "code",
   "execution_count": 268,
   "metadata": {},
   "outputs": [
    {
     "data": {
      "text/plain": [
       "UUID('cbb30f06-9b1d-43c2-836a-921486b97048')"
      ]
     },
     "execution_count": 268,
     "metadata": {},
     "output_type": "execute_result"
    }
   ],
   "source": [
    "movies.data.insert(\n",
    "    properties={'title': 'Twisters', 'overview': 'As storm season intensifies, the paths of form...'}\n",
    ")"
   ]
  }
 ],
 "metadata": {
  "kernelspec": {
   "display_name": "env",
   "language": "python",
   "name": "python3"
  },
  "language_info": {
   "codemirror_mode": {
    "name": "ipython",
    "version": 3
   },
   "file_extension": ".py",
   "mimetype": "text/x-python",
   "name": "python",
   "nbconvert_exporter": "python",
   "pygments_lexer": "ipython3",
   "version": "3.11.7"
  }
 },
 "nbformat": 4,
 "nbformat_minor": 2
}
